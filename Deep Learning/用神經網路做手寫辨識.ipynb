{
 "cells": [
  {
   "cell_type": "markdown",
   "metadata": {},
   "source": [
    "# 用 Keras 做個手寫辨識系統\n",
    "\n",
    "CNN 的創始者 Yann LeCun 第一個 CNN 例子就是用來辨識手寫、印刷的 0-9 數字。這裡用 LeCun 原版資料:\n",
    "\n",
    "[MNIST 手寫辨識資料](http://yann.lecun.com/exdb/mnist/)\n",
    "\n",
    "每個手寫圖檔都是 28x28 大小的, 輸出原本是 0-9 的數字, 但我們想改成辨視資料是 0 就要輸出\n",
    "\n",
    "[1, 0, 0, 0, 0, 0, 0, 0, 0, 0]\n",
    "\n",
    "是 3 就是\n",
    "\n",
    "[0, 0, 0, 1, 0, 0, 0, 0, 0, 0]\n",
    "\n",
    "等等。\n",
    "\n",
    "另外我們用最傳統的 Fully Connected Feedforward 架構, 而不是用 CNN:\n",
    "\n",
    "* 輸入是一個 28x28=784 維的向量。\n",
    "* 輸出是 10 維向量 (每個數字都是 0 到 9)\n",
    "* Hidden Layer 有兩層, 每層 500 個 neuron"
   ]
  },
  {
   "cell_type": "code",
   "execution_count": 1,
   "metadata": {
    "collapsed": false
   },
   "outputs": [
    {
     "name": "stderr",
     "output_type": "stream",
     "text": [
      "Using Theano backend.\n"
     ]
    }
   ],
   "source": [
    "%matplotlib inline\n",
    "import pandas as pd\n",
    "import numpy as np\n",
    "import matplotlib.pyplot as plt\n",
    "# seaborn 畫圖會比較漂亮, 但這裡可能不用\n",
    "# import seaborn as sns\n",
    "from keras.models import Sequential\n",
    "from keras.layers.core import Dense, Activation\n",
    "from keras.datasets import mnist\n",
    "from keras.optimizers import SGD"
   ]
  },
  {
   "cell_type": "markdown",
   "metadata": {
    "collapsed": false
   },
   "source": [
    "## 讀入 MNIST 資料"
   ]
  },
  {
   "cell_type": "code",
   "execution_count": 2,
   "metadata": {
    "collapsed": false
   },
   "outputs": [],
   "source": [
    "(x0_train, y0_train), (x0_test, y0_test) = mnist.load_data()"
   ]
  },
  {
   "cell_type": "markdown",
   "metadata": {},
   "source": [
    "每一個 `x0_train` 裡都是 28x28 的矩陣, 我們可以畫出來看看就知道的確是個手寫的數字。"
   ]
  },
  {
   "cell_type": "code",
   "execution_count": 3,
   "metadata": {
    "collapsed": false
   },
   "outputs": [
    {
     "data": {
      "text/plain": [
       "<matplotlib.image.AxesImage at 0x11aa7c860>"
      ]
     },
     "execution_count": 3,
     "metadata": {},
     "output_type": "execute_result"
    },
    {
     "data": {
      "image/png": "[encoded data removed]",
      "text/plain": [
       "<matplotlib.figure.Figure at 0x107279ac8>"
      ]
     },
     "metadata": {},
     "output_type": "display_data"
    }
   ],
   "source": [
    "plt.imshow(x0_train[9], cmap='Greys')"
   ]
  },
  {
   "cell_type": "markdown",
   "metadata": {},
   "source": [
    "相對的 y0_train 也可以看一下。"
   ]
  },
  {
   "cell_type": "code",
   "execution_count": 4,
   "metadata": {
    "collapsed": false
   },
   "outputs": [
    {
     "data": {
      "text/plain": [
       "4"
      ]
     },
     "execution_count": 4,
     "metadata": {},
     "output_type": "execute_result"
    }
   ],
   "source": [
    "y0_train[9]"
   ]
  },
  {
   "cell_type": "markdown",
   "metadata": {},
   "source": [
    "## 資料轉成可訓練的樣子\n",
    "\n",
    "我們準備做兩件事:\n",
    "\n",
    "* 把 x 影像資料從 28x28 的矩陣轉成 784 維的向量。\n",
    "* 每個 y 轉成 10 維的向量, 只有在第 i 個位置是 1 (辨視出是 i), 其餘都是 0。"
   ]
  },
  {
   "cell_type": "markdown",
   "metadata": {},
   "source": [
    "計算訓練、測試數目。"
   ]
  },
  {
   "cell_type": "code",
   "execution_count": 5,
   "metadata": {
    "collapsed": true
   },
   "outputs": [],
   "source": [
    "num_train = len(x0_train)\n",
    "num_test = len(x0_test)"
   ]
  },
  {
   "cell_type": "markdown",
   "metadata": {},
   "source": [
    "看一下多少個。"
   ]
  },
  {
   "cell_type": "code",
   "execution_count": 6,
   "metadata": {
    "collapsed": false
   },
   "outputs": [
    {
     "name": "stdout",
     "output_type": "stream",
     "text": [
      "訓練資料 60000 筆\n",
      "測試資料 10000 筆\n"
     ]
    }
   ],
   "source": [
    "print(\"訓練資料 \"+str(num_train)+\" 筆\")\n",
    "print(\"測試資料 \"+str(num_test)+\" 筆\")"
   ]
  },
  {
   "cell_type": "markdown",
   "metadata": {},
   "source": [
    "### 輸入資料轉向量"
   ]
  },
  {
   "cell_type": "code",
   "execution_count": 7,
   "metadata": {
    "collapsed": false
   },
   "outputs": [],
   "source": [
    "x_train = x0_train.reshape(num_train, 28*28) # 注意 28*28 只是個數字\n",
    "x_test = x0_test.reshape(num_test, 28*28)"
   ]
  },
  {
   "cell_type": "markdown",
   "metadata": {},
   "source": [
    "### 輸出資料轉向量"
   ]
  },
  {
   "cell_type": "code",
   "execution_count": 8,
   "metadata": {
    "collapsed": false
   },
   "outputs": [],
   "source": [
    "y_train = np.zeros((num_train, 10))\n",
    "y_test = np.zeros((num_test,10))"
   ]
  },
  {
   "cell_type": "code",
   "execution_count": 9,
   "metadata": {
    "collapsed": false
   },
   "outputs": [
    {
     "data": {
      "text/plain": [
       "array([ 0.,  0.,  0.,  0.,  0.,  0.,  0.,  0.,  0.,  0.])"
      ]
     },
     "execution_count": 9,
     "metadata": {},
     "output_type": "execute_result"
    }
   ],
   "source": [
    "y_train[0]"
   ]
  },
  {
   "cell_type": "code",
   "execution_count": 10,
   "metadata": {
    "collapsed": false
   },
   "outputs": [],
   "source": [
    "for i in range(num_train):\n",
    "    y_train[i][y0_train[i]] = 1\n",
    "for i in range(num_test):\n",
    "    y_test[i][y0_test[i]] = 1"
   ]
  },
  {
   "cell_type": "markdown",
   "metadata": {},
   "source": [
    "## 建置我們的神經網路"
   ]
  },
  {
   "cell_type": "code",
   "execution_count": 11,
   "metadata": {
    "collapsed": true
   },
   "outputs": [],
   "source": [
    "model = Sequential()"
   ]
  },
  {
   "cell_type": "code",
   "execution_count": 12,
   "metadata": {
    "collapsed": false
   },
   "outputs": [],
   "source": [
    "model.add(Dense(input_dim=28*28, output_dim=500))\n",
    "model.add(Activation('sigmoid'))"
   ]
  },
  {
   "cell_type": "code",
   "execution_count": 13,
   "metadata": {
    "collapsed": true
   },
   "outputs": [],
   "source": [
    "model.add(Dense(output_dim=500))\n",
    "model.add(Activation('sigmoid'))"
   ]
  },
  {
   "cell_type": "code",
   "execution_count": 14,
   "metadata": {
    "collapsed": true
   },
   "outputs": [],
   "source": [
    "model.add(Dense(output_dim=10))\n",
    "model.add(Activation('softmax'))"
   ]
  },
  {
   "cell_type": "code",
   "execution_count": 15,
   "metadata": {
    "collapsed": false
   },
   "outputs": [],
   "source": [
    "model.compile(loss='mse', optimizer=SGD(lr=0.1), metrics=['accuracy'])"
   ]
  },
  {
   "cell_type": "markdown",
   "metadata": {},
   "source": [
    "## 訓練開始!"
   ]
  },
  {
   "cell_type": "code",
   "execution_count": 16,
   "metadata": {
    "collapsed": false
   },
   "outputs": [
    {
     "name": "stdout",
     "output_type": "stream",
     "text": [
      "Epoch 1/20\n",
      "60000/60000 [==============================] - 14s - loss: 0.0815 - acc: 0.3736    \n",
      "Epoch 2/20\n",
      "60000/60000 [==============================] - 14s - loss: 0.0615 - acc: 0.6576    \n",
      "Epoch 3/20\n",
      "60000/60000 [==============================] - 15s - loss: 0.0441 - acc: 0.7716    \n",
      "Epoch 4/20\n",
      "60000/60000 [==============================] - 15s - loss: 0.0323 - acc: 0.8389    \n",
      "Epoch 5/20\n",
      "60000/60000 [==============================] - 15s - loss: 0.0252 - acc: 0.8753    \n",
      "Epoch 6/20\n",
      "60000/60000 [==============================] - 15s - loss: 0.0210 - acc: 0.8901    \n",
      "Epoch 7/20\n",
      "60000/60000 [==============================] - 15s - loss: 0.0185 - acc: 0.8982    \n",
      "Epoch 8/20\n",
      "60000/60000 [==============================] - 15s - loss: 0.0167 - acc: 0.9056    \n",
      "Epoch 9/20\n",
      "60000/60000 [==============================] - 15s - loss: 0.0154 - acc: 0.9113    \n",
      "Epoch 10/20\n",
      "60000/60000 [==============================] - 15s - loss: 0.0144 - acc: 0.9166    \n",
      "Epoch 11/20\n",
      "60000/60000 [==============================] - 15s - loss: 0.0136 - acc: 0.9210    \n",
      "Epoch 12/20\n",
      "60000/60000 [==============================] - 15s - loss: 0.0129 - acc: 0.9252    \n",
      "Epoch 13/20\n",
      "60000/60000 [==============================] - 15s - loss: 0.0123 - acc: 0.9284    \n",
      "Epoch 14/20\n",
      "60000/60000 [==============================] - 16s - loss: 0.0117 - acc: 0.9320    \n",
      "Epoch 15/20\n",
      "60000/60000 [==============================] - 15s - loss: 0.0113 - acc: 0.9345    \n",
      "Epoch 16/20\n",
      "60000/60000 [==============================] - 16s - loss: 0.0108 - acc: 0.9372    \n",
      "Epoch 17/20\n",
      "60000/60000 [==============================] - 16s - loss: 0.0104 - acc: 0.9396    \n",
      "Epoch 18/20\n",
      "60000/60000 [==============================] - 16s - loss: 0.0101 - acc: 0.9420    \n",
      "Epoch 19/20\n",
      "60000/60000 [==============================] - 16s - loss: 0.0097 - acc: 0.9441    \n",
      "Epoch 20/20\n",
      "60000/60000 [==============================] - 16s - loss: 0.0094 - acc: 0.9454    \n"
     ]
    },
    {
     "data": {
      "text/plain": [
       "<keras.callbacks.History at 0x129b06320>"
      ]
     },
     "execution_count": 16,
     "metadata": {},
     "output_type": "execute_result"
    }
   ],
   "source": [
    "model.fit(x_train, y_train, batch_size=100, nb_epoch=20)"
   ]
  },
  {
   "cell_type": "markdown",
   "metadata": {},
   "source": [
    "## 看看訓練成績"
   ]
  },
  {
   "cell_type": "code",
   "execution_count": 17,
   "metadata": {
    "collapsed": false
   },
   "outputs": [
    {
     "name": "stdout",
     "output_type": "stream",
     "text": [
      " 9952/10000 [============================>.] - ETA: 0s"
     ]
    }
   ],
   "source": [
    "score = model.evaluate(x_test, y_test)"
   ]
  },
  {
   "cell_type": "code",
   "execution_count": 18,
   "metadata": {
    "collapsed": false
   },
   "outputs": [
    {
     "name": "stdout",
     "output_type": "stream",
     "text": [
      "Total Loss on Testing Set: 0.0106894730295\n",
      "Accuracy of Testing Set: 0.9333\n"
     ]
    }
   ],
   "source": [
    "print(\"Total Loss on Testing Set:\", score[0])\n",
    "print(\"Accuracy of Testing Set:\", score[1])"
   ]
  },
  {
   "cell_type": "markdown",
   "metadata": {},
   "source": [
    "看來還挺準的, 我們抽查幾個看看。"
   ]
  },
  {
   "cell_type": "markdown",
   "metadata": {},
   "source": [
    "## 看看訓練成效"
   ]
  },
  {
   "cell_type": "code",
   "execution_count": 24,
   "metadata": {
    "collapsed": false
   },
   "outputs": [
    {
     "name": "stdout",
     "output_type": "stream",
     "text": [
      " 9984/10000 [============================>.] - ETA: 0s"
     ]
    }
   ],
   "source": [
    "result = model.predict_classes(x_test)"
   ]
  },
  {
   "cell_type": "markdown",
   "metadata": {},
   "source": [
    "指定要看第幾筆訓練資料 (0 到 9999):"
   ]
  },
  {
   "cell_type": "code",
   "execution_count": 25,
   "metadata": {
    "collapsed": true
   },
   "outputs": [],
   "source": [
    "no_test = 888"
   ]
  },
  {
   "cell_type": "markdown",
   "metadata": {},
   "source": [
    "先看一下長像 (記得要用原來的 `x0_test` 才可以)"
   ]
  },
  {
   "cell_type": "code",
   "execution_count": 26,
   "metadata": {
    "collapsed": false
   },
   "outputs": [
    {
     "data": {
      "text/plain": [
       "<matplotlib.image.AxesImage at 0x12aeb69e8>"
      ]
     },
     "execution_count": 26,
     "metadata": {},
     "output_type": "execute_result"
    },
    {
     "data": {
      "image/png": "[encoded data removed]",
      "text/plain": [
       "<matplotlib.figure.Figure at 0x129b06710>"
      ]
     },
     "metadata": {},
     "output_type": "display_data"
    }
   ],
   "source": [
    "plt.imshow(x0_test[no_test], cmap=\"Greys\")"
   ]
  },
  {
   "cell_type": "code",
   "execution_count": 29,
   "metadata": {
    "collapsed": false
   },
   "outputs": [
    {
     "name": "stdout",
     "output_type": "stream",
     "text": [
      "我們的神經網路說是: 2\n"
     ]
    }
   ],
   "source": [
    "nn_predict = result[no_test]\n",
    "print('我們的神經網路說是:', nn_predict)"
   ]
  },
  {
   "cell_type": "markdown",
   "metadata": {},
   "source": [
    "## 把我們學好的成果存起來\n",
    "\n",
    "我們日後要用這個神經網路, 在正常狀態下都不會想再訓練一次, 所以我們來學學怎麼把成果存起來。"
   ]
  },
  {
   "cell_type": "code",
   "execution_count": 30,
   "metadata": {
    "collapsed": true
   },
   "outputs": [],
   "source": [
    "model_json = model.to_json()\n",
    "open('handwriting_model_architecture.json', 'w').write(model_json)\n",
    "model.save_weights('handwriting_model_weights.h5')"
   ]
  }
 ],
 "metadata": {
  "anaconda-cloud": {},
  "kernelspec": {
   "display_name": "Python [Root]",
   "language": "python",
   "name": "Python [Root]"
  },
  "language_info": {
   "codemirror_mode": {
    "name": "ipython",
    "version": 3
   },
   "file_extension": ".py",
   "mimetype": "text/x-python",
   "name": "python",
   "nbconvert_exporter": "python",
   "pygments_lexer": "ipython3",
   "version": "3.5.2"
  }
 },
 "nbformat": 4,
 "nbformat_minor": 0
}
