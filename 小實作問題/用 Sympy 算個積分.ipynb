{
 "cells": [
  {
   "cell_type": "markdown",
   "metadata": {},
   "source": [
    "# 用 Sympy 算個積分\n",
    "\n",
    "我們要用 Python 算\n",
    "\n",
    "$$\\int \\frac{1}{1 + \\sin x - \\cos x} \\, dx$$\n",
    "\n",
    "提示: 手算的話要把 $\\sin x$, $\\cos x$ 換成 $\\tan \\frac{x}{2}$。"
   ]
  },
  {
   "cell_type": "code",
   "execution_count": 2,
   "metadata": {
    "collapsed": true
   },
   "outputs": [],
   "source": [
    "from sympy import *"
   ]
  },
  {
   "cell_type": "code",
   "execution_count": 3,
   "metadata": {
    "collapsed": true
   },
   "outputs": [],
   "source": [
    "# 美化輸出\n",
    "init_printing()"
   ]
  },
  {
   "cell_type": "code",
   "execution_count": 4,
   "metadata": {
    "collapsed": true
   },
   "outputs": [],
   "source": [
    "x = symbols('x')"
   ]
  },
  {
   "cell_type": "code",
   "execution_count": 5,
   "metadata": {
    "collapsed": true
   },
   "outputs": [],
   "source": [
    "f = 1/(1+sin(x)-cos(x))"
   ]
  },
  {
   "cell_type": "code",
   "execution_count": 6,
   "metadata": {
    "collapsed": false
   },
   "outputs": [
    {
     "data": {
      "image/png": "[encoded data removed]",
      "text/latex": [
       "$$- \\log{\\left (\\tan{\\left (\\frac{x}{2} \\right )} + 1 \\right )} + \\log{\\left (\\tan{\\left (\\frac{x}{2} \\right )} \\right )}$$"
      ],
      "text/plain": [
       "     ⎛   ⎛x⎞    ⎞      ⎛   ⎛x⎞⎞\n",
       "- log⎜tan⎜─⎟ + 1⎟ + log⎜tan⎜─⎟⎟\n",
       "     ⎝   ⎝2⎠    ⎠      ⎝   ⎝2⎠⎠"
      ]
     },
     "execution_count": 6,
     "metadata": {},
     "output_type": "execute_result"
    }
   ],
   "source": [
    "integrate(f)"
   ]
  }
 ],
 "metadata": {
  "kernelspec": {
   "display_name": "Python [Root]",
   "language": "python",
   "name": "Python [Root]"
  },
  "language_info": {
   "codemirror_mode": {
    "name": "ipython",
    "version": 3
   },
   "file_extension": ".py",
   "mimetype": "text/x-python",
   "name": "python",
   "nbconvert_exporter": "python",
   "pygments_lexer": "ipython3",
   "version": "3.5.2"
  }
 },
 "nbformat": 4,
 "nbformat_minor": 0
}
